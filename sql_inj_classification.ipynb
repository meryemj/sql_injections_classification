{
 "cells": [
  {
   "cell_type": "code",
   "execution_count": null,
   "id": "437ae147-95f4-4597-b5f2-f4e11bdef07a",
   "metadata": {},
   "outputs": [],
   "source": [
    "!pip install tensorflow"
   ]
  },
  {
   "cell_type": "code",
   "execution_count": 1,
   "id": "838ba2bd-68fa-49d2-a03c-d4f83061ca9a",
   "metadata": {},
   "outputs": [],
   "source": [
    "import pandas as pd\n",
    "from sklearn.model_selection import train_test_split\n",
    "from tensorflow.keras.preprocessing.text import Tokenizer\n",
    "from tensorflow.keras.preprocessing.sequence import pad_sequences\n",
    "from tensorflow.keras.utils import to_categorical"
   ]
  },
  {
   "cell_type": "code",
   "execution_count": 2,
   "id": "ebd8230b-005d-4595-becb-9cd95a214340",
   "metadata": {},
   "outputs": [],
   "source": [
    "df = pd.read_csv(\"C:/Users/merye/Downloads/archive/Modified_SQL_Dataset.csv\")"
   ]
  },
  {
   "cell_type": "code",
   "execution_count": 3,
   "id": "98419842-7654-472d-8d3d-1146260f9024",
   "metadata": {},
   "outputs": [
    {
     "data": {
      "text/html": [
       "<div>\n",
       "<style scoped>\n",
       "    .dataframe tbody tr th:only-of-type {\n",
       "        vertical-align: middle;\n",
       "    }\n",
       "\n",
       "    .dataframe tbody tr th {\n",
       "        vertical-align: top;\n",
       "    }\n",
       "\n",
       "    .dataframe thead th {\n",
       "        text-align: right;\n",
       "    }\n",
       "</style>\n",
       "<table border=\"1\" class=\"dataframe\">\n",
       "  <thead>\n",
       "    <tr style=\"text-align: right;\">\n",
       "      <th></th>\n",
       "      <th>Query</th>\n",
       "      <th>Label</th>\n",
       "    </tr>\n",
       "  </thead>\n",
       "  <tbody>\n",
       "    <tr>\n",
       "      <th>0</th>\n",
       "      <td>\" or pg_sleep  (  __TIME__  )  --</td>\n",
       "      <td>1</td>\n",
       "    </tr>\n",
       "    <tr>\n",
       "      <th>1</th>\n",
       "      <td>create user name identified by pass123 tempora...</td>\n",
       "      <td>1</td>\n",
       "    </tr>\n",
       "    <tr>\n",
       "      <th>2</th>\n",
       "      <td>AND 1  =  utl_inaddr.get_host_address   (    ...</td>\n",
       "      <td>1</td>\n",
       "    </tr>\n",
       "    <tr>\n",
       "      <th>3</th>\n",
       "      <td>select * from users where id  =  '1' or @ @1 ...</td>\n",
       "      <td>1</td>\n",
       "    </tr>\n",
       "    <tr>\n",
       "      <th>4</th>\n",
       "      <td>select * from users where id  =  1 or 1#\"  ( ...</td>\n",
       "      <td>1</td>\n",
       "    </tr>\n",
       "  </tbody>\n",
       "</table>\n",
       "</div>"
      ],
      "text/plain": [
       "                                               Query  Label\n",
       "0                  \" or pg_sleep  (  __TIME__  )  --      1\n",
       "1  create user name identified by pass123 tempora...      1\n",
       "2   AND 1  =  utl_inaddr.get_host_address   (    ...      1\n",
       "3   select * from users where id  =  '1' or @ @1 ...      1\n",
       "4   select * from users where id  =  1 or 1#\"  ( ...      1"
      ]
     },
     "execution_count": 3,
     "metadata": {},
     "output_type": "execute_result"
    }
   ],
   "source": [
    "df.head()"
   ]
  },
  {
   "cell_type": "code",
   "execution_count": 4,
   "id": "e9f0397e-156e-48f9-8ee6-c442cb4281de",
   "metadata": {},
   "outputs": [],
   "source": [
    "X = df['Query'].values\n",
    "y = df['Label'].values"
   ]
  },
  {
   "cell_type": "markdown",
   "id": "2db1ea97-22fa-4466-996b-529bf2abc7e1",
   "metadata": {},
   "source": [
    "#Explaination of how this part works :\n",
    "imagine X=[\"select * \",\"select * from students\",\"where name=\"meryem\"]\n",
    "we start by initializing the tokenizer \n",
    "than creation of the indexes: select=1 *=2 .....\n",
    "than appliying it for each sentence\n",
    "X_seq= [[1,2,....],[.......],.......]"
   ]
  },
  {
   "cell_type": "code",
   "execution_count": 5,
   "id": "4b61ea6a-0361-44f2-ac26-74221af63792",
   "metadata": {},
   "outputs": [],
   "source": [
    "tokenizer = Tokenizer(num_words=5000)\n",
    "tokenizer.fit_on_texts(X)\n",
    "X_seq = tokenizer.texts_to_sequences(X)"
   ]
  },
  {
   "cell_type": "code",
   "execution_count": 13,
   "id": "22d9651b-1e6d-4e05-bc2b-4f6e059acee6",
   "metadata": {},
   "outputs": [
    {
     "name": "stdout",
     "output_type": "stream",
     "text": [
      "[10, 119, 33, 306]\n",
      "[389, 430, 76, 18, 3495, 4999, 21]\n",
      "[5, 3, 189, 192, 168, 190, 165, 1, 85, 284, 76, 2, 1, 85, 284, 76, 298, 7, 72, 2, 390, 13, 123, 4, 72, 28, 5, 364, 365]\n",
      "[1, 2, 21, 4, 32, 214, 10, 3, 3, 14, 1, 3, 108, 15]\n",
      "[1, 2, 21, 4, 32, 3, 10, 3, 14, 1, 3, 108, 3]\n"
     ]
    }
   ],
   "source": [
    "for i in range(5):\n",
    "    print(X_seq[i])\n"
   ]
  },
  {
   "cell_type": "markdown",
   "id": "147a7570-ec7e-4f67-b495-e9da968aae9b",
   "metadata": {},
   "source": [
    "#make sure our inputs have the same lenghts nn demand same length for the inputs "
   ]
  },
  {
   "cell_type": "code",
   "execution_count": 15,
   "id": "a747913e-7470-4874-b321-26e5e09d3f14",
   "metadata": {},
   "outputs": [],
   "source": [
    "X_pad = pad_sequences(X_seq, maxlen=100)"
   ]
  },
  {
   "cell_type": "code",
   "execution_count": 17,
   "id": "cedab828-4edf-4957-8bd5-1787246720d3",
   "metadata": {},
   "outputs": [
    {
     "name": "stdout",
     "output_type": "stream",
     "text": [
      "[  0   0   0   0   0   0   0   0   0   0   0   0   0   0   0   0   0   0\n",
      "   0   0   0   0   0   0   0   0   0   0   0   0   0   0   0   0   0   0\n",
      "   0   0   0   0   0   0   0   0   0   0   0   0   0   0   0   0   0   0\n",
      "   0   0   0   0   0   0   0   0   0   0   0   0   0   0   0   0   0   0\n",
      "   0   0   0   0   0   0   0   0   0   0   0   0   0   0   0   0   0   0\n",
      "   0   0   0   0   0   0  10 119  33 306]\n",
      "[   0    0    0    0    0    0    0    0    0    0    0    0    0    0\n",
      "    0    0    0    0    0    0    0    0    0    0    0    0    0    0\n",
      "    0    0    0    0    0    0    0    0    0    0    0    0    0    0\n",
      "    0    0    0    0    0    0    0    0    0    0    0    0    0    0\n",
      "    0    0    0    0    0    0    0    0    0    0    0    0    0    0\n",
      "    0    0    0    0    0    0    0    0    0    0    0    0    0    0\n",
      "    0    0    0    0    0    0    0    0    0  389  430   76   18 3495\n",
      " 4999   21]\n",
      "[  0   0   0   0   0   0   0   0   0   0   0   0   0   0   0   0   0   0\n",
      "   0   0   0   0   0   0   0   0   0   0   0   0   0   0   0   0   0   0\n",
      "   0   0   0   0   0   0   0   0   0   0   0   0   0   0   0   0   0   0\n",
      "   0   0   0   0   0   0   0   0   0   0   0   0   0   0   0   0   0   5\n",
      "   3 189 192 168 190 165   1  85 284  76   2   1  85 284  76 298   7  72\n",
      "   2 390  13 123   4  72  28   5 364 365]\n",
      "[  0   0   0   0   0   0   0   0   0   0   0   0   0   0   0   0   0   0\n",
      "   0   0   0   0   0   0   0   0   0   0   0   0   0   0   0   0   0   0\n",
      "   0   0   0   0   0   0   0   0   0   0   0   0   0   0   0   0   0   0\n",
      "   0   0   0   0   0   0   0   0   0   0   0   0   0   0   0   0   0   0\n",
      "   0   0   0   0   0   0   0   0   0   0   0   0   0   0   1   2  21   4\n",
      "  32 214  10   3   3  14   1   3 108  15]\n",
      "[  0   0   0   0   0   0   0   0   0   0   0   0   0   0   0   0   0   0\n",
      "   0   0   0   0   0   0   0   0   0   0   0   0   0   0   0   0   0   0\n",
      "   0   0   0   0   0   0   0   0   0   0   0   0   0   0   0   0   0   0\n",
      "   0   0   0   0   0   0   0   0   0   0   0   0   0   0   0   0   0   0\n",
      "   0   0   0   0   0   0   0   0   0   0   0   0   0   0   0   1   2  21\n",
      "   4  32   3  10   3  14   1   3 108   3]\n"
     ]
    }
   ],
   "source": [
    "for i in range(5):\n",
    "    print(X_pad[i])"
   ]
  },
  {
   "cell_type": "code",
   "execution_count": 19,
   "id": "c3f97545-b9ef-4217-b72f-92ec50e17748",
   "metadata": {},
   "outputs": [],
   "source": [
    "X_train, X_test, y_train, y_test = train_test_split(X_pad, y, test_size=0.2, random_state=42)\n"
   ]
  },
  {
   "cell_type": "code",
   "execution_count": 21,
   "id": "15258d70-c813-48bd-94c0-b250e86f81a0",
   "metadata": {},
   "outputs": [],
   "source": [
    "from tensorflow.keras.models import Sequential\n",
    "from tensorflow.keras.layers import Embedding, LSTM, Dense, Dropout, Bidirectional\n"
   ]
  },
  {
   "cell_type": "code",
   "execution_count": 23,
   "id": "cff7d6c7-55d6-40d0-8547-63ab8bf426d5",
   "metadata": {},
   "outputs": [],
   "source": [
    "model_lstm = Sequential()\n",
    "model_lstm.add(Embedding(input_dim=5000, output_dim=128))\n",
    "model_lstm.add(Bidirectional(LSTM(64, return_sequences=True)))\n",
    "model_lstm.add(Dropout(0.5))\n",
    "model_lstm.add(LSTM(64))\n",
    "model_lstm.add(Dense(64, activation='relu'))\n",
    "model_lstm.add(Dropout(0.5))\n",
    "model_lstm.add(Dense(1, activation='sigmoid'))"
   ]
  },
  {
   "cell_type": "code",
   "execution_count": 25,
   "id": "3d681704-a78f-42d6-af21-f59294fac574",
   "metadata": {},
   "outputs": [],
   "source": [
    "model_lstm.compile(loss='binary_crossentropy', optimizer='adam', metrics=['accuracy'])"
   ]
  },
  {
   "cell_type": "code",
   "execution_count": 27,
   "id": "2664dd63-f64c-4636-bfe7-fb9baa4cdfe8",
   "metadata": {},
   "outputs": [
    {
     "name": "stdout",
     "output_type": "stream",
     "text": [
      "Epoch 1/10\n",
      "\u001b[1m387/387\u001b[0m \u001b[32m━━━━━━━━━━━━━━━━━━━━\u001b[0m\u001b[37m\u001b[0m \u001b[1m66s\u001b[0m 142ms/step - accuracy: 0.9113 - loss: 0.2022 - val_accuracy: 0.9937 - val_loss: 0.0305\n",
      "Epoch 2/10\n",
      "\u001b[1m387/387\u001b[0m \u001b[32m━━━━━━━━━━━━━━━━━━━━\u001b[0m\u001b[37m\u001b[0m \u001b[1m57s\u001b[0m 147ms/step - accuracy: 0.9953 - loss: 0.0253 - val_accuracy: 0.9935 - val_loss: 0.0291\n",
      "Epoch 3/10\n",
      "\u001b[1m387/387\u001b[0m \u001b[32m━━━━━━━━━━━━━━━━━━━━\u001b[0m\u001b[37m\u001b[0m \u001b[1m56s\u001b[0m 144ms/step - accuracy: 0.9955 - loss: 0.0207 - val_accuracy: 0.9927 - val_loss: 0.0341\n",
      "Epoch 4/10\n",
      "\u001b[1m387/387\u001b[0m \u001b[32m━━━━━━━━━━━━━━━━━━━━\u001b[0m\u001b[37m\u001b[0m \u001b[1m62s\u001b[0m 160ms/step - accuracy: 0.9965 - loss: 0.0179 - val_accuracy: 0.9930 - val_loss: 0.0377\n",
      "Epoch 5/10\n",
      "\u001b[1m387/387\u001b[0m \u001b[32m━━━━━━━━━━━━━━━━━━━━\u001b[0m\u001b[37m\u001b[0m \u001b[1m63s\u001b[0m 162ms/step - accuracy: 0.9971 - loss: 0.0161 - val_accuracy: 0.9932 - val_loss: 0.0390\n",
      "Epoch 6/10\n",
      "\u001b[1m387/387\u001b[0m \u001b[32m━━━━━━━━━━━━━━━━━━━━\u001b[0m\u001b[37m\u001b[0m \u001b[1m62s\u001b[0m 161ms/step - accuracy: 0.9961 - loss: 0.0190 - val_accuracy: 0.9950 - val_loss: 0.0296\n",
      "Epoch 7/10\n",
      "\u001b[1m387/387\u001b[0m \u001b[32m━━━━━━━━━━━━━━━━━━━━\u001b[0m\u001b[37m\u001b[0m \u001b[1m60s\u001b[0m 154ms/step - accuracy: 0.9974 - loss: 0.0140 - val_accuracy: 0.9937 - val_loss: 0.0344\n",
      "Epoch 8/10\n",
      "\u001b[1m387/387\u001b[0m \u001b[32m━━━━━━━━━━━━━━━━━━━━\u001b[0m\u001b[37m\u001b[0m \u001b[1m59s\u001b[0m 151ms/step - accuracy: 0.9973 - loss: 0.0145 - val_accuracy: 0.9943 - val_loss: 0.0347\n",
      "Epoch 9/10\n",
      "\u001b[1m387/387\u001b[0m \u001b[32m━━━━━━━━━━━━━━━━━━━━\u001b[0m\u001b[37m\u001b[0m \u001b[1m57s\u001b[0m 148ms/step - accuracy: 0.9973 - loss: 0.0155 - val_accuracy: 0.9935 - val_loss: 0.0388\n",
      "Epoch 10/10\n",
      "\u001b[1m387/387\u001b[0m \u001b[32m━━━━━━━━━━━━━━━━━━━━\u001b[0m\u001b[37m\u001b[0m \u001b[1m56s\u001b[0m 145ms/step - accuracy: 0.9977 - loss: 0.0130 - val_accuracy: 0.9942 - val_loss: 0.0348\n"
     ]
    },
    {
     "data": {
      "text/plain": [
       "<keras.src.callbacks.history.History at 0x1a6d2a97bc0>"
      ]
     },
     "execution_count": 27,
     "metadata": {},
     "output_type": "execute_result"
    }
   ],
   "source": [
    "model_lstm.fit(X_train, y_train, epochs=10, batch_size=64, validation_data=(X_test, y_test))"
   ]
  },
  {
   "cell_type": "code",
   "execution_count": 28,
   "id": "8c7e38f9-e300-4774-8041-b50aa1f5eafa",
   "metadata": {},
   "outputs": [
    {
     "name": "stdout",
     "output_type": "stream",
     "text": [
      "\u001b[1m194/194\u001b[0m \u001b[32m━━━━━━━━━━━━━━━━━━━━\u001b[0m\u001b[37m\u001b[0m \u001b[1m7s\u001b[0m 34ms/step - accuracy: 0.9945 - loss: 0.0325\n",
      "LSTM Model Accuracy: 99.42%\n"
     ]
    }
   ],
   "source": [
    "loss_lstm, acc_lstm = model_lstm.evaluate(X_test, y_test)\n",
    "print(f'LSTM Model Accuracy: {acc_lstm * 100:.2f}%')\n"
   ]
  },
  {
   "cell_type": "code",
   "execution_count": 29,
   "id": "2ff94df7-327a-43f1-a779-9bee00e054e4",
   "metadata": {},
   "outputs": [
    {
     "name": "stderr",
     "output_type": "stream",
     "text": [
      "WARNING:absl:You are saving your model as an HDF5 file via `model.save()` or `keras.saving.save_model(model)`. This file format is considered legacy. We recommend using instead the native Keras format, e.g. `model.save('my_model.keras')` or `keras.saving.save_model(model, 'my_model.keras')`. \n"
     ]
    },
    {
     "name": "stdout",
     "output_type": "stream",
     "text": [
      "Model saved as lstm_model.h5\n"
     ]
    }
   ],
   "source": [
    "model_lstm.save('lstm_model.h5')  \n",
    "print(\"Model saved as lstm_model.h5\")"
   ]
  }
 ],
 "metadata": {
  "kernelspec": {
   "display_name": "Python 3 (ipykernel)",
   "language": "python",
   "name": "python3"
  },
  "language_info": {
   "codemirror_mode": {
    "name": "ipython",
    "version": 3
   },
   "file_extension": ".py",
   "mimetype": "text/x-python",
   "name": "python",
   "nbconvert_exporter": "python",
   "pygments_lexer": "ipython3",
   "version": "3.12.4"
  }
 },
 "nbformat": 4,
 "nbformat_minor": 5
}
